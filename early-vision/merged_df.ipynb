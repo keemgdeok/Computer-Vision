{
 "cells": [
  {
   "cell_type": "code",
   "execution_count": 2,
   "metadata": {},
   "outputs": [
    {
     "name": "stderr",
     "output_type": "stream",
     "text": [
      "C:\\Users\\gdeok\\AppData\\Local\\Temp\\ipykernel_30916\\2162656668.py:1: DeprecationWarning: \n",
      "Pyarrow will become a required dependency of pandas in the next major release of pandas (pandas 3.0),\n",
      "(to allow more performant data types, such as the Arrow string type, and better interoperability with other libraries)\n",
      "but was not found to be installed on your system.\n",
      "If this would cause problems for you,\n",
      "please provide us feedback at https://github.com/pandas-dev/pandas/issues/54466\n",
      "        \n",
      "  import pandas as pd\n"
     ]
    }
   ],
   "source": [
    "import pandas as pd\n",
    "import numpy as np"
   ]
  },
  {
   "cell_type": "code",
   "execution_count": 6,
   "metadata": {},
   "outputs": [],
   "source": [
    "import pandas as pd\n",
    "\n",
    "# 파일 경로\n",
    "file_path1 = './feature/merged_features_lbp_bovw_glcm.csv'\n",
    "file_path2 = './feature/hsv_color_histograms_888.csv'\n",
    "\n",
    "# CSV 파일 로드\n",
    "df1 = pd.read_csv(file_path1, index_col=0)\n",
    "df2 = pd.read_csv(file_path2, index_col=0)\n",
    "\n",
    "# 열 이름에 접미사 추가\n",
    "#df1.columns = [f\"{col}_lbp\" if col != 'label' else col for col in df1.columns]\n",
    "df2.columns = [f\"{col}_hsv\" if col != 'label' else col for col in df2.columns]\n",
    "\n",
    "# 데이터 프레임 병합\n",
    "merged_df = pd.merge(df1, df2, left_index=True, right_index=True)\n",
    "\n",
    "# label 값 하나만 유지 (label_lbp 또는 label_bovw 둘 중 하나 선택)\n",
    "if 'label_x' in merged_df.columns:\n",
    "    merged_df.drop(columns=['label_x'], inplace=True)\n",
    "merged_df.rename(columns={'label_y': 'label'}, inplace=True)\n",
    "\n",
    "# 병합된 데이터 프레임 확인\n",
    "merged_df\n",
    "\n",
    "# 병합된 데이터 프레임을 CSV 파일로 저장\n",
    "merged_df.to_csv('./feature/merged_features_lbp_sift_glcm_hsv.csv')\n"
   ]
  }
 ],
 "metadata": {
  "kernelspec": {
   "display_name": "Python 3",
   "language": "python",
   "name": "python3"
  },
  "language_info": {
   "codemirror_mode": {
    "name": "ipython",
    "version": 3
   },
   "file_extension": ".py",
   "mimetype": "text/x-python",
   "name": "python",
   "nbconvert_exporter": "python",
   "pygments_lexer": "ipython3",
   "version": "3.9.13"
  },
  "orig_nbformat": 4
 },
 "nbformat": 4,
 "nbformat_minor": 2
}
